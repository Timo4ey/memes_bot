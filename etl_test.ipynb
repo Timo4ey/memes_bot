{
 "cells": [
  {
   "cell_type": "code",
   "execution_count": 1,
   "metadata": {},
   "outputs": [],
   "source": [
    "import requests\n",
    "from psycopg2.extensions import AsIs\n",
    "import pandas as pd\n",
    "from time import sleep\n",
    "from datetime import datetime\n",
    "from config import vk_access_token, db_db_name, db_host, db_password, db_user\n",
    "from sqldb import DataBase_Con\n"
   ]
  },
  {
   "cell_type": "code",
   "execution_count": 2,
   "metadata": {},
   "outputs": [
    {
     "name": "stdout",
     "output_type": "stream",
     "text": [
      "The connnection in ON\n"
     ]
    }
   ],
   "source": [
    "connect_db = DataBase_Con(db_host,db_user,  db_password,  db_db_name)\n",
    "connect_db.connection_on()"
   ]
  },
  {
   "cell_type": "code",
   "execution_count": 3,
   "metadata": {},
   "outputs": [],
   "source": [
    "\n",
    "def getVkJson(list_of_indexes) -> pd.DataFrame:\n",
    "    df = pd.DataFrame()\n",
    "    for x in list_of_indexes:\n",
    "        url = 'https://api.vk.com/method/'\n",
    "        method_wall = 'wall.get'\n",
    "        v = '5.131'\n",
    "        params_wall = {\n",
    "        'owner_id':x[0]*-1,\n",
    "        'access_token':vk_access_token,\n",
    "        'count': 30,\n",
    "        'v':v\n",
    "    }\n",
    "        req_wall = requests.get(url + method_wall, params = params_wall, allow_redirects=False)\n",
    "        req_wall.close\n",
    "        sleep(0.5)\n",
    "        df = pd.concat([df, pd.DataFrame(req_wall.json()['response']['items'])])\n",
    "\n",
    "    return df.reset_index()\n",
    "\n",
    "\n",
    "def dateStamper(arr):\n",
    "    return pd.to_datetime(datetime.utcfromtimestamp(arr).strftime('%Y-%m-%d %H:%M:%S'))\n",
    "\n",
    "def currentDate():\n",
    "    return pd.to_datetime(datetime.now().strftime('%Y-%m-%d %H:%M:%S'))\n",
    "\n",
    "\n",
    "def changeSignOwnerID(arr):\n",
    "    return arr *-1\n",
    "\n",
    "\n",
    "def getPhotoMetaData(arr) -> dict:\n",
    "    if 'photo' in arr[0].values():\n",
    "        return arr[0]['photo']\n",
    "\n",
    "\n",
    "def getAttachments(arr) -> dict:\n",
    "    if 'photo' in arr[0].values():\n",
    "        return arr[0]['photo']['sizes']\n",
    "\n",
    "def getPhotoID(arr) -> dict:\n",
    "    if 'post_id' in arr.keys() :\n",
    "        return arr['post_id']\n",
    "\n",
    "\n",
    "def getSizes(arr) -> pd.DataFrame:\n",
    "    temp_list = []\n",
    "    for ind in range(len(arr)):\n",
    "        for x in arr['meta_photo'][ind]['sizes']:\n",
    "            if 'x' in x.values():\n",
    "                temp_list.append( x['url'])\n",
    "\n",
    "    return pd.DataFrame(temp_list, columns=['url'])\n",
    "\n",
    "\n",
    "def convert_asis(arr):\n",
    "    return AsIs(arr)\n",
    "\n",
    "\n",
    "def dateSTAMP(arr):\n",
    "    return datetime.now().strftime('%Y-%m-%d %H:%M:%S')\n",
    "\n",
    "\n",
    "\n"
   ]
  },
  {
   "cell_type": "code",
   "execution_count": 4,
   "metadata": {},
   "outputs": [
    {
     "name": "stdout",
     "output_type": "stream",
     "text": [
      "[INFO]Groups has been gotten. Func getIndexesFromMainDB has finished\n"
     ]
    }
   ],
   "source": [
    "main_list = connect_db.getIndexesFromMainDB()\n",
    "df_from_vk = getVkJson(main_list)"
   ]
  },
  {
   "cell_type": "code",
   "execution_count": 5,
   "metadata": {},
   "outputs": [],
   "source": [
    "def currentDate():\n",
    "    return pd.to_datetime(datetime.now().strftime('%Y-%m-%d %H:%M:%S'))"
   ]
  },
  {
   "cell_type": "code",
   "execution_count": 6,
   "metadata": {},
   "outputs": [],
   "source": [
    "def mainColumns(func) -> pd.DataFrame:\n",
    "    def inner(*args, **kwargs):\n",
    "        result = func(*args, **kwargs)\n",
    "        return result[['id','owner_id','text','date','attachments']]\n",
    "    return inner"
   ]
  },
  {
   "cell_type": "code",
   "execution_count": 7,
   "metadata": {},
   "outputs": [],
   "source": [
    "@mainColumns\n",
    "def requiredData(df) -> pd.DataFrame:\n",
    "    return df.loc[(df['carousel_offset'] != 0.0)&(df['marked_as_ads'] != 1)&(df['attachments'] != None)]\n"
   ]
  },
  {
   "cell_type": "code",
   "execution_count": 8,
   "metadata": {},
   "outputs": [],
   "source": [
    "frame_main_df = requiredData(df_from_vk)[:]"
   ]
  },
  {
   "cell_type": "code",
   "execution_count": 9,
   "metadata": {},
   "outputs": [],
   "source": [
    "def getdicts(func):\n",
    "    def get0(df):\n",
    "        result = func(df)\n",
    "        try:\n",
    "            return result.get('sizes')\n",
    "        except:\n",
    "            return None        \n",
    "    return get0"
   ]
  },
  {
   "cell_type": "code",
   "execution_count": 10,
   "metadata": {},
   "outputs": [],
   "source": [
    "def gettingUrl(func):\n",
    "    def inner(*args, **kwargs):\n",
    "        result = func(*args, **kwargs)\n",
    "        try:\n",
    "            for x in result:\n",
    "                if  x.get('type') == 'x':\n",
    "                    return x['url']\n",
    "        except:\n",
    "            return None\n",
    "    return inner\n",
    "    "
   ]
  },
  {
   "cell_type": "code",
   "execution_count": 11,
   "metadata": {},
   "outputs": [],
   "source": [
    "@gettingUrl\n",
    "@getdicts\n",
    "def unpaker(df):\n",
    "    try:\n",
    "        return df[0].get('photo')\n",
    "    except:\n",
    "        return None\n",
    "\n",
    "    "
   ]
  },
  {
   "cell_type": "code",
   "execution_count": 12,
   "metadata": {},
   "outputs": [],
   "source": [
    "# def changetype(func) -> pd.DataFrame:\n",
    "#     def inner(df):\n",
    "#     new_df = df.rename(columns = {'id':'content_id', 'date':'public_date'})\n",
    "#     return new_df.astype({'owner_id':int,'public_date':str, 'save_date':str})\n",
    "    "
   ]
  },
  {
   "cell_type": "code",
   "execution_count": 13,
   "metadata": {},
   "outputs": [],
   "source": [
    "def changetype(func) -> pd.DataFrame:\n",
    "    def inner(df):\n",
    "        result = func(df)\n",
    "        new_df = result.rename(columns = {'id':'content_id', 'date':'public_date'})\n",
    "        return new_df.astype({'owner_id':int,'public_date':str, 'save_date':str})\n",
    "    return inner\n",
    "    "
   ]
  },
  {
   "cell_type": "code",
   "execution_count": 14,
   "metadata": {},
   "outputs": [],
   "source": [
    "@changetype\n",
    "def properformat(df) -> pd.DataFrame:\n",
    "    new_df = df.dropna().reset_index().drop(columns = ['index','attachments'])\n",
    "    new_df['owner_id'] = new_df['owner_id'] *-1\n",
    "    return new_df"
   ]
  },
  {
   "cell_type": "code",
   "execution_count": 15,
   "metadata": {},
   "outputs": [],
   "source": [
    "def dateStamper(arr):\n",
    "    return pd.to_datetime(datetime.utcfromtimestamp(arr).strftime('%Y-%m-%d %H:%M:%S'))"
   ]
  },
  {
   "cell_type": "code",
   "execution_count": 16,
   "metadata": {},
   "outputs": [],
   "source": [
    "frame_main_df['url'] = frame_main_df['attachments'].apply(unpaker)\n"
   ]
  },
  {
   "cell_type": "code",
   "execution_count": 17,
   "metadata": {},
   "outputs": [],
   "source": [
    "frame_main_df['date'] = frame_main_df['date'].apply(dateStamper)\n",
    "frame_main_df['save_date'] = currentDate()"
   ]
  },
  {
   "cell_type": "code",
   "execution_count": 18,
   "metadata": {},
   "outputs": [],
   "source": [
    "data_to_send = properformat(frame_main_df)[:]"
   ]
  },
  {
   "cell_type": "code",
   "execution_count": 19,
   "metadata": {},
   "outputs": [
    {
     "data": {
      "text/html": [
       "<div>\n",
       "<style scoped>\n",
       "    .dataframe tbody tr th:only-of-type {\n",
       "        vertical-align: middle;\n",
       "    }\n",
       "\n",
       "    .dataframe tbody tr th {\n",
       "        vertical-align: top;\n",
       "    }\n",
       "\n",
       "    .dataframe thead th {\n",
       "        text-align: right;\n",
       "    }\n",
       "</style>\n",
       "<table border=\"1\" class=\"dataframe\">\n",
       "  <thead>\n",
       "    <tr style=\"text-align: right;\">\n",
       "      <th></th>\n",
       "      <th>content_id</th>\n",
       "      <th>owner_id</th>\n",
       "      <th>text</th>\n",
       "      <th>public_date</th>\n",
       "      <th>url</th>\n",
       "      <th>save_date</th>\n",
       "    </tr>\n",
       "  </thead>\n",
       "  <tbody>\n",
       "    <tr>\n",
       "      <th>0</th>\n",
       "      <td>12180316</td>\n",
       "      <td>460389</td>\n",
       "      <td></td>\n",
       "      <td>2022-05-11 07:37:33</td>\n",
       "      <td>https://sun9-57.userapi.com/s/v1/if2/Xlb_ab-16...</td>\n",
       "      <td>2022-05-13 15:25:10</td>\n",
       "    </tr>\n",
       "  </tbody>\n",
       "</table>\n",
       "</div>"
      ],
      "text/plain": [
       "   content_id  owner_id text          public_date  \\\n",
       "0    12180316    460389       2022-05-11 07:37:33   \n",
       "\n",
       "                                                 url            save_date  \n",
       "0  https://sun9-57.userapi.com/s/v1/if2/Xlb_ab-16...  2022-05-13 15:25:10  "
      ]
     },
     "execution_count": 19,
     "metadata": {},
     "output_type": "execute_result"
    }
   ],
   "source": [
    "data_to_send.head(1)"
   ]
  },
  {
   "cell_type": "code",
   "execution_count": 20,
   "metadata": {},
   "outputs": [
    {
     "name": "stdout",
     "output_type": "stream",
     "text": [
      "[INFO]content_db has been gotten. Func GetIDPostsSQL has finished\n",
      "[INFO] Content_db has been updated. Func sendDataContentSQL has finished\n",
      "[INFO] Post_db has been updated. Func sendDataPostsSQL has finished\n",
      "[INFO] Databases have been updated\n"
     ]
    }
   ],
   "source": [
    "temp_df = connect_db.GetIDPostsSQL()\n",
    "try:\n",
    "    new_df = takeNewestPosts(temp_df, data_to_send)\n",
    "\n",
    "    for_content_db = new_df[['content_id', 'owner_id', 'public_date', 'save_date']]\n",
    "    for_post_db = new_df[[ 'url', 'text','content_id']]\n",
    "    for_content_db = for_content_db.astype({'public_date':str, 'save_date':str})\n",
    "    connect_db.sendDataContentSQL(for_content_db)\n",
    "    connect_db.sendDataPostsSQL(for_post_db)\n",
    "    print(\"[INFO] Databases have been updated\")\n",
    "except Exception as _ex:\n",
    "    print(\"[INFO] You don't have a new data\", _ex)"
   ]
  }
 ],
 "metadata": {
  "interpreter": {
   "hash": "4d8236f43f1f942255601e66b46990f4af59a734d56957b43326d664ed79e356"
  },
  "kernelspec": {
   "display_name": "Python 3.10.4 64-bit",
   "language": "python",
   "name": "python3"
  },
  "language_info": {
   "codemirror_mode": {
    "name": "ipython",
    "version": 3
   },
   "file_extension": ".py",
   "mimetype": "text/x-python",
   "name": "python",
   "nbconvert_exporter": "python",
   "pygments_lexer": "ipython3",
   "version": "3.10.4"
  },
  "orig_nbformat": 4
 },
 "nbformat": 4,
 "nbformat_minor": 2
}
